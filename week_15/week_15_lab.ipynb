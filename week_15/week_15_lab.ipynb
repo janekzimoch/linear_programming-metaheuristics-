{
 "cells": [
  {
   "cell_type": "markdown",
   "metadata": {},
   "source": [
    "## 0a. import liblaries"
   ]
  },
  {
   "cell_type": "code",
   "execution_count": 3,
   "metadata": {},
   "outputs": [],
   "source": [
    "import numpy as np\n",
    "import pandas as pd\n",
    "import matplotlib.pyplot as plt\n",
    "\n",
    "from pulp import *"
   ]
  },
  {
   "cell_type": "markdown",
   "metadata": {},
   "source": [
    "## 0b. load data"
   ]
  },
  {
   "cell_type": "code",
   "execution_count": 4,
   "metadata": {},
   "outputs": [],
   "source": [
    "distances = pd.read_csv(\"Distances.csv\")"
   ]
  },
  {
   "cell_type": "code",
   "execution_count": 5,
   "metadata": {},
   "outputs": [
    {
     "data": {
      "text/html": [
       "<div>\n",
       "<style scoped>\n",
       "    .dataframe tbody tr th:only-of-type {\n",
       "        vertical-align: middle;\n",
       "    }\n",
       "\n",
       "    .dataframe tbody tr th {\n",
       "        vertical-align: top;\n",
       "    }\n",
       "\n",
       "    .dataframe thead th {\n",
       "        text-align: right;\n",
       "    }\n",
       "</style>\n",
       "<table border=\"1\" class=\"dataframe\">\n",
       "  <thead>\n",
       "    <tr style=\"text-align: right;\">\n",
       "      <th></th>\n",
       "      <th>BS16 5TR</th>\n",
       "      <th>BS8 4HY</th>\n",
       "      <th>BS4 2NZ</th>\n",
       "      <th>BS35 3RY</th>\n",
       "      <th>BS3 3NA</th>\n",
       "      <th>BS29 6AB</th>\n",
       "      <th>BS10 6DQ</th>\n",
       "      <th>BS25 1TW</th>\n",
       "      <th>BS16 4DD</th>\n",
       "      <th>BS10 5DB</th>\n",
       "      <th>BS48 3RE</th>\n",
       "      <th>BS37 6RX</th>\n",
       "      <th>BS13 8BW</th>\n",
       "      <th>BS5 8EJ</th>\n",
       "    </tr>\n",
       "    <tr>\n",
       "      <th>Unnamed: 1</th>\n",
       "      <th></th>\n",
       "      <th></th>\n",
       "      <th></th>\n",
       "      <th></th>\n",
       "      <th></th>\n",
       "      <th></th>\n",
       "      <th></th>\n",
       "      <th></th>\n",
       "      <th></th>\n",
       "      <th></th>\n",
       "      <th></th>\n",
       "      <th></th>\n",
       "      <th></th>\n",
       "      <th></th>\n",
       "    </tr>\n",
       "  </thead>\n",
       "  <tbody>\n",
       "    <tr>\n",
       "      <th>BS16 5TR</th>\n",
       "      <td>0.00</td>\n",
       "      <td>8.16</td>\n",
       "      <td>7.85</td>\n",
       "      <td>8.85</td>\n",
       "      <td>8.56</td>\n",
       "      <td>29.96</td>\n",
       "      <td>6.44</td>\n",
       "      <td>22.39</td>\n",
       "      <td>1.80</td>\n",
       "      <td>5.95</td>\n",
       "      <td>13.01</td>\n",
       "      <td>6.92</td>\n",
       "      <td>10.83</td>\n",
       "      <td>3.09</td>\n",
       "    </tr>\n",
       "    <tr>\n",
       "      <th>BS8 4HY</th>\n",
       "      <td>8.28</td>\n",
       "      <td>0.00</td>\n",
       "      <td>4.33</td>\n",
       "      <td>10.60</td>\n",
       "      <td>2.87</td>\n",
       "      <td>20.23</td>\n",
       "      <td>4.07</td>\n",
       "      <td>15.03</td>\n",
       "      <td>5.51</td>\n",
       "      <td>3.92</td>\n",
       "      <td>5.65</td>\n",
       "      <td>15.53</td>\n",
       "      <td>4.36</td>\n",
       "      <td>3.86</td>\n",
       "    </tr>\n",
       "    <tr>\n",
       "      <th>BS4 2NZ</th>\n",
       "      <td>7.63</td>\n",
       "      <td>4.87</td>\n",
       "      <td>0.00</td>\n",
       "      <td>13.04</td>\n",
       "      <td>2.93</td>\n",
       "      <td>17.66</td>\n",
       "      <td>6.57</td>\n",
       "      <td>15.87</td>\n",
       "      <td>4.46</td>\n",
       "      <td>5.24</td>\n",
       "      <td>7.98</td>\n",
       "      <td>13.60</td>\n",
       "      <td>5.13</td>\n",
       "      <td>2.49</td>\n",
       "    </tr>\n",
       "    <tr>\n",
       "      <th>BS35 3RY</th>\n",
       "      <td>8.88</td>\n",
       "      <td>15.10</td>\n",
       "      <td>13.62</td>\n",
       "      <td>0.00</td>\n",
       "      <td>13.41</td>\n",
       "      <td>25.83</td>\n",
       "      <td>7.44</td>\n",
       "      <td>29.49</td>\n",
       "      <td>9.99</td>\n",
       "      <td>6.81</td>\n",
       "      <td>16.48</td>\n",
       "      <td>14.74</td>\n",
       "      <td>17.84</td>\n",
       "      <td>12.09</td>\n",
       "    </tr>\n",
       "    <tr>\n",
       "      <th>BS3 3NA</th>\n",
       "      <td>8.57</td>\n",
       "      <td>2.37</td>\n",
       "      <td>2.63</td>\n",
       "      <td>13.09</td>\n",
       "      <td>0.00</td>\n",
       "      <td>15.25</td>\n",
       "      <td>7.33</td>\n",
       "      <td>13.46</td>\n",
       "      <td>5.80</td>\n",
       "      <td>5.93</td>\n",
       "      <td>5.48</td>\n",
       "      <td>15.82</td>\n",
       "      <td>2.26</td>\n",
       "      <td>4.24</td>\n",
       "    </tr>\n",
       "    <tr>\n",
       "      <th>BS29 6AB</th>\n",
       "      <td>30.64</td>\n",
       "      <td>16.68</td>\n",
       "      <td>17.51</td>\n",
       "      <td>26.27</td>\n",
       "      <td>15.15</td>\n",
       "      <td>0.00</td>\n",
       "      <td>24.67</td>\n",
       "      <td>3.96</td>\n",
       "      <td>31.75</td>\n",
       "      <td>25.89</td>\n",
       "      <td>13.26</td>\n",
       "      <td>36.51</td>\n",
       "      <td>13.88</td>\n",
       "      <td>33.85</td>\n",
       "    </tr>\n",
       "    <tr>\n",
       "      <th>BS10 6DQ</th>\n",
       "      <td>6.30</td>\n",
       "      <td>3.99</td>\n",
       "      <td>7.12</td>\n",
       "      <td>7.42</td>\n",
       "      <td>7.71</td>\n",
       "      <td>23.97</td>\n",
       "      <td>0.00</td>\n",
       "      <td>19.87</td>\n",
       "      <td>7.41</td>\n",
       "      <td>1.78</td>\n",
       "      <td>1.05</td>\n",
       "      <td>13.57</td>\n",
       "      <td>9.21</td>\n",
       "      <td>5.58</td>\n",
       "    </tr>\n",
       "    <tr>\n",
       "      <th>BS25 1TW</th>\n",
       "      <td>22.77</td>\n",
       "      <td>14.89</td>\n",
       "      <td>15.71</td>\n",
       "      <td>29.94</td>\n",
       "      <td>13.36</td>\n",
       "      <td>3.96</td>\n",
       "      <td>19.85</td>\n",
       "      <td>0.00</td>\n",
       "      <td>20.00</td>\n",
       "      <td>18.44</td>\n",
       "      <td>11.46</td>\n",
       "      <td>30.02</td>\n",
       "      <td>12.09</td>\n",
       "      <td>18.12</td>\n",
       "    </tr>\n",
       "    <tr>\n",
       "      <th>BS16 4DD</th>\n",
       "      <td>1.53</td>\n",
       "      <td>5.48</td>\n",
       "      <td>4.74</td>\n",
       "      <td>9.92</td>\n",
       "      <td>5.87</td>\n",
       "      <td>31.04</td>\n",
       "      <td>5.70</td>\n",
       "      <td>19.71</td>\n",
       "      <td>0.00</td>\n",
       "      <td>4.37</td>\n",
       "      <td>10.33</td>\n",
       "      <td>8.42</td>\n",
       "      <td>8.18</td>\n",
       "      <td>1.95</td>\n",
       "    </tr>\n",
       "    <tr>\n",
       "      <th>BS10 5DB</th>\n",
       "      <td>6.03</td>\n",
       "      <td>4.07</td>\n",
       "      <td>5.78</td>\n",
       "      <td>6.82</td>\n",
       "      <td>6.47</td>\n",
       "      <td>25.55</td>\n",
       "      <td>1.88</td>\n",
       "      <td>18.63</td>\n",
       "      <td>4.60</td>\n",
       "      <td>0.00</td>\n",
       "      <td>9.25</td>\n",
       "      <td>13.30</td>\n",
       "      <td>7.96</td>\n",
       "      <td>4.25</td>\n",
       "    </tr>\n",
       "    <tr>\n",
       "      <th>BS48 3RE</th>\n",
       "      <td>13.31</td>\n",
       "      <td>5.42</td>\n",
       "      <td>7.98</td>\n",
       "      <td>16.56</td>\n",
       "      <td>5.28</td>\n",
       "      <td>13.25</td>\n",
       "      <td>10.38</td>\n",
       "      <td>11.45</td>\n",
       "      <td>10.54</td>\n",
       "      <td>8.98</td>\n",
       "      <td>0.00</td>\n",
       "      <td>20.56</td>\n",
       "      <td>5.10</td>\n",
       "      <td>8.65</td>\n",
       "    </tr>\n",
       "    <tr>\n",
       "      <th>BS37 6RX</th>\n",
       "      <td>6.92</td>\n",
       "      <td>15.58</td>\n",
       "      <td>16.19</td>\n",
       "      <td>14.87</td>\n",
       "      <td>15.98</td>\n",
       "      <td>35.98</td>\n",
       "      <td>17.59</td>\n",
       "      <td>29.81</td>\n",
       "      <td>8.45</td>\n",
       "      <td>14.49</td>\n",
       "      <td>20.43</td>\n",
       "      <td>0.00</td>\n",
       "      <td>18.25</td>\n",
       "      <td>14.66</td>\n",
       "    </tr>\n",
       "    <tr>\n",
       "      <th>BS13 8BW</th>\n",
       "      <td>12.15</td>\n",
       "      <td>4.26</td>\n",
       "      <td>4.48</td>\n",
       "      <td>17.71</td>\n",
       "      <td>2.15</td>\n",
       "      <td>13.78</td>\n",
       "      <td>9.22</td>\n",
       "      <td>11.98</td>\n",
       "      <td>9.38</td>\n",
       "      <td>7.82</td>\n",
       "      <td>5.11</td>\n",
       "      <td>19.40</td>\n",
       "      <td>0.00</td>\n",
       "      <td>7.50</td>\n",
       "    </tr>\n",
       "    <tr>\n",
       "      <th>BS5 8EJ</th>\n",
       "      <td>3.24</td>\n",
       "      <td>5.85</td>\n",
       "      <td>2.88</td>\n",
       "      <td>11.66</td>\n",
       "      <td>4.16</td>\n",
       "      <td>18.89</td>\n",
       "      <td>5.89</td>\n",
       "      <td>17.10</td>\n",
       "      <td>2.15</td>\n",
       "      <td>4.56</td>\n",
       "      <td>8.96</td>\n",
       "      <td>11.22</td>\n",
       "      <td>5.90</td>\n",
       "      <td>0.00</td>\n",
       "    </tr>\n",
       "  </tbody>\n",
       "</table>\n",
       "</div>"
      ],
      "text/plain": [
       "            BS16 5TR  BS8 4HY  BS4 2NZ  BS35 3RY  BS3 3NA  BS29 6AB  BS10 6DQ  \\\n",
       "Unnamed: 1                                                                      \n",
       "BS16 5TR        0.00     8.16     7.85      8.85     8.56     29.96      6.44   \n",
       "BS8 4HY         8.28     0.00     4.33     10.60     2.87     20.23      4.07   \n",
       "BS4 2NZ         7.63     4.87     0.00     13.04     2.93     17.66      6.57   \n",
       "BS35 3RY        8.88    15.10    13.62      0.00    13.41     25.83      7.44   \n",
       "BS3 3NA         8.57     2.37     2.63     13.09     0.00     15.25      7.33   \n",
       "BS29 6AB       30.64    16.68    17.51     26.27    15.15      0.00     24.67   \n",
       "BS10 6DQ        6.30     3.99     7.12      7.42     7.71     23.97      0.00   \n",
       "BS25 1TW       22.77    14.89    15.71     29.94    13.36      3.96     19.85   \n",
       "BS16 4DD        1.53     5.48     4.74      9.92     5.87     31.04      5.70   \n",
       "BS10 5DB        6.03     4.07     5.78      6.82     6.47     25.55      1.88   \n",
       "BS48 3RE       13.31     5.42     7.98     16.56     5.28     13.25     10.38   \n",
       "BS37 6RX        6.92    15.58    16.19     14.87    15.98     35.98     17.59   \n",
       "BS13 8BW       12.15     4.26     4.48     17.71     2.15     13.78      9.22   \n",
       "BS5 8EJ         3.24     5.85     2.88     11.66     4.16     18.89      5.89   \n",
       "\n",
       "            BS25 1TW  BS16 4DD  BS10 5DB  BS48 3RE  BS37 6RX  BS13 8BW  \\\n",
       "Unnamed: 1                                                               \n",
       "BS16 5TR       22.39      1.80      5.95     13.01      6.92     10.83   \n",
       "BS8 4HY        15.03      5.51      3.92      5.65     15.53      4.36   \n",
       "BS4 2NZ        15.87      4.46      5.24      7.98     13.60      5.13   \n",
       "BS35 3RY       29.49      9.99      6.81     16.48     14.74     17.84   \n",
       "BS3 3NA        13.46      5.80      5.93      5.48     15.82      2.26   \n",
       "BS29 6AB        3.96     31.75     25.89     13.26     36.51     13.88   \n",
       "BS10 6DQ       19.87      7.41      1.78      1.05     13.57      9.21   \n",
       "BS25 1TW        0.00     20.00     18.44     11.46     30.02     12.09   \n",
       "BS16 4DD       19.71      0.00      4.37     10.33      8.42      8.18   \n",
       "BS10 5DB       18.63      4.60      0.00      9.25     13.30      7.96   \n",
       "BS48 3RE       11.45     10.54      8.98      0.00     20.56      5.10   \n",
       "BS37 6RX       29.81      8.45     14.49     20.43      0.00     18.25   \n",
       "BS13 8BW       11.98      9.38      7.82      5.11     19.40      0.00   \n",
       "BS5 8EJ        17.10      2.15      4.56      8.96     11.22      5.90   \n",
       "\n",
       "            BS5 8EJ  \n",
       "Unnamed: 1           \n",
       "BS16 5TR       3.09  \n",
       "BS8 4HY        3.86  \n",
       "BS4 2NZ        2.49  \n",
       "BS35 3RY      12.09  \n",
       "BS3 3NA        4.24  \n",
       "BS29 6AB      33.85  \n",
       "BS10 6DQ       5.58  \n",
       "BS25 1TW      18.12  \n",
       "BS16 4DD       1.95  \n",
       "BS10 5DB       4.25  \n",
       "BS48 3RE       8.65  \n",
       "BS37 6RX      14.66  \n",
       "BS13 8BW       7.50  \n",
       "BS5 8EJ        0.00  "
      ]
     },
     "execution_count": 5,
     "metadata": {},
     "output_type": "execute_result"
    }
   ],
   "source": [
    "distances = distances.drop(\"Unnamed: 0\", axis=1)\n",
    "distances = distances.set_index('Unnamed: 1')\n",
    "distances = distances[distances.index.notnull()]\n",
    "distances"
   ]
  },
  {
   "cell_type": "markdown",
   "metadata": {},
   "source": [
    "## 1.  Construct a delivery route for one lorry by starting at the base (BS16 5TR) and consistenly visiting the nearest non-visited remaining address until all addresses are visited and then going back to base. What is the total distance that is travelled?"
   ]
  },
  {
   "cell_type": "code",
   "execution_count": 6,
   "metadata": {},
   "outputs": [
    {
     "name": "stdout",
     "output_type": "stream",
     "text": [
      "total distance:  86.27 km\n",
      "CORRECT\n"
     ]
    }
   ],
   "source": [
    "home = \"BS16 5TR\"\n",
    "base = \"BS16 5TR\"\n",
    "total_distance = 0;\n",
    "i = 0;\n",
    "distances_editable = distances.copy()\n",
    "while (i < len(distances.columns)-1):\n",
    "    shortest_path = distances_editable.loc[base,:][distances_editable.loc[base,:] > 0.0].min()\n",
    "    new_destination = distances_editable.loc[base,:][distances_editable.loc[base,:] > 0.0].idxmin()\n",
    "    total_distance += shortest_path\n",
    "    distances_editable = distances_editable.drop(base,axis=1)\n",
    "    i += 1\n",
    "    base = new_destination\n",
    "    \n",
    "# go back home\n",
    "total_distance += distances.loc[base,home]\n",
    "\n",
    "print(\"total distance: \", total_distance, \"km\")\n",
    "print(\"CORRECT\")"
   ]
  },
  {
   "cell_type": "markdown",
   "metadata": {},
   "source": [
    "## 2. What is the best route for a single lorry to deliver products to all of the addresses? How does it compare to the ”Nearest Neighbour” approach?"
   ]
  },
  {
   "cell_type": "code",
   "execution_count": 14,
   "metadata": {},
   "outputs": [],
   "source": [
    "# convert column names of pandas 'dataframe' into a python list\n",
    "adresses = distances.columns.tolist()"
   ]
  },
  {
   "cell_type": "code",
   "execution_count": 15,
   "metadata": {},
   "outputs": [],
   "source": [
    "# Create the 'prob' variable to contain the problem data\n",
    "prob = LpProblem(\"Shortest path - basic\",LpMinimize)"
   ]
  },
  {
   "cell_type": "code",
   "execution_count": 16,
   "metadata": {},
   "outputs": [],
   "source": [
    "# A dictionary called 'adress_vars' is created to contain the referenced Variables\n",
    "adresses_vars = LpVariable.dicts(\"path\",(adresses,adresses),0,1,LpInteger)"
   ]
  },
  {
   "cell_type": "code",
   "execution_count": 17,
   "metadata": {},
   "outputs": [],
   "source": [
    "# The objective function\n",
    "prob += lpSum([distances.loc[i,j]*adresses_vars[i][j] \n",
    "               for i in adresses\n",
    "               for j in adresses]), \"Total distance\""
   ]
  },
  {
   "cell_type": "markdown",
   "metadata": {},
   "source": [
    "#### Add constraints"
   ]
  },
  {
   "cell_type": "code",
   "execution_count": 18,
   "metadata": {},
   "outputs": [
    {
     "data": {
      "text/plain": [
       "1"
      ]
     },
     "execution_count": 18,
     "metadata": {},
     "output_type": "execute_result"
    }
   ],
   "source": [
    "# each node can have only one edge out and one edge in\n",
    "for i in adresses:\n",
    "    prob += lpSum([adresses_vars[i][j] for j in adresses]) == 1, (\"one edge out per \" + i)\n",
    "    prob += lpSum([adresses_vars[j][i] for j in adresses]) == 1, (\"one edge in per node\" + i)\n",
    "\n",
    "    # no node can lead to itself\n",
    "    prob += adresses_vars[i][i] == 0, (\"no going to itself\" + i)\n",
    "\n",
    "# eliminate sub-loops \n",
    "for i in adresses:\n",
    "    for j in adresses:\n",
    "        prob += adresses_vars[j][i] + adresses_vars[i][j] <= 1, (\"avoid 2-loops\" + i + \"_\" + j)\n",
    "    \n",
    "prob.solve()"
   ]
  },
  {
   "cell_type": "code",
   "execution_count": 19,
   "metadata": {},
   "outputs": [
    {
     "name": "stdout",
     "output_type": "stream",
     "text": [
      "Total distance:  75.84000000000002\n",
      "correct values is: 75.84\n"
     ]
    }
   ],
   "source": [
    "print(\"Total distance: \", value(prob.objective))\n",
    "print(\"correct values is: 75.84\")"
   ]
  },
  {
   "cell_type": "markdown",
   "metadata": {},
   "source": [
    "#### Use following code to find sub-loops"
   ]
  },
  {
   "cell_type": "code",
   "execution_count": 20,
   "metadata": {},
   "outputs": [],
   "source": [
    "distances_copy = distances.copy()\n",
    "distances_copy.iloc[:,:] = 0\n",
    "for v in prob.variables():    \n",
    "    if (v.varValue > 0.0):\n",
    "        adress_array = v.name.split('_')\n",
    "        from_ = adress_array[1] + \" \" + adress_array[2]\n",
    "        to_ = adress_array[3] + \" \" + adress_array[4]\n",
    "        distances_copy.loc[from_,to_] = 1"
   ]
  },
  {
   "cell_type": "code",
   "execution_count": 21,
   "metadata": {},
   "outputs": [],
   "source": [
    "# calculate \"binary matrix\" of variables to the power of n (for n = [1:14])\n",
    "\n",
    "distances_p2 = distances_copy.dot(distances_copy)\n",
    "distances_p3 = distances_p2.dot(distances_copy)\n",
    "distances_p4 = distances_p3.dot(distances_copy)\n",
    "distances_p5 = distances_p4.dot(distances_copy)\n",
    "distances_p6 = distances_p5.dot(distances_copy)\n",
    "distances_p7 = distances_p6.dot(distances_copy)\n",
    "distances_p8 = distances_p7.dot(distances_copy)\n",
    "distances_p9 = distances_p8.dot(distances_copy)\n",
    "distances_p10 = distances_p9.dot(distances_copy)\n",
    "distances_p11 = distances_p10.dot(distances_copy)\n",
    "distances_p12 = distances_p11.dot(distances_copy)\n",
    "distances_p13 = distances_p12.dot(distances_copy)\n",
    "distances_p14 = distances_p13.dot(distances_copy)"
   ]
  },
  {
   "cell_type": "code",
   "execution_count": 22,
   "metadata": {},
   "outputs": [
    {
     "data": {
      "image/png": "[encoded data removed]",
      "text/plain": [
       "<Figure size 288x288 with 1 Axes>"
      ]
     },
     "metadata": {
      "needs_background": "light"
     },
     "output_type": "display_data"
    }
   ],
   "source": [
    "plt.matshow(distances_copy.iloc[:,:] == 1)\n",
    "plt.show()"
   ]
  },
  {
   "cell_type": "code",
   "execution_count": 23,
   "metadata": {},
   "outputs": [
    {
     "data": {
      "image/png": "[encoded data removed]",
      "text/plain": [
       "<Figure size 288x288 with 1 Axes>"
      ]
     },
     "metadata": {
      "needs_background": "light"
     },
     "output_type": "display_data"
    }
   ],
   "source": [
    "plt.matshow(distances_p14.iloc[:,:] == 1)\n",
    "plt.show()"
   ]
  },
  {
   "cell_type": "markdown",
   "metadata": {},
   "source": [
    "#### above matrix is diagonal which indicates that all nodes come back to itself after 14 steps"
   ]
  },
  {
   "cell_type": "markdown",
   "metadata": {},
   "source": [
    "## 3.  What are the best routes if you have two lorries?"
   ]
  },
  {
   "cell_type": "code",
   "execution_count": 24,
   "metadata": {},
   "outputs": [],
   "source": [
    "# Create the 'prob' variable to contain the problem data\n",
    "prob_2 = LpProblem(\"Shortest path - 2 lorries\",LpMinimize)\n",
    "\n",
    "# A dictionary called is created to contain the referenced Variables\n",
    "adress_vars = LpVariable.dicts(\"path\",(adresses,adresses),0,1,LpInteger)\n",
    "\n",
    "# The objective function\n",
    "prob_2 += lpSum([distances.loc[i,j]*adress_vars[i][j] \n",
    "               for i in adresses\n",
    "               for j in adresses]), \"Total distance\""
   ]
  },
  {
   "cell_type": "code",
   "execution_count": 25,
   "metadata": {},
   "outputs": [
    {
     "data": {
      "text/plain": [
       "1"
      ]
     },
     "execution_count": 25,
     "metadata": {},
     "output_type": "execute_result"
    }
   ],
   "source": [
    "# ADD CONSTRAINTS\n",
    "\n",
    "# node (1,1) (our starting location) can have 2 edges out and 2 edges in (as there are two lorries living it)\n",
    "prob_2 += lpSum([adress_vars[adresses[0]][j] for j in adresses]) == 2, (\"two edges out from the starting location\")\n",
    "prob_2 += lpSum([adress_vars[i][adresses[0]] for i in adresses]) == 2, (\"two edges in to the starting location\")\n",
    "\n",
    "# each remaining node can have only one edge out and one edge in\n",
    "for i in adresses[1:]:\n",
    "    prob_2 += lpSum([adress_vars[i][j] for j in adresses]) == 1, (\"one edge out per \" + i)\n",
    "    prob_2 += lpSum([adress_vars[j][i] for j in adresses]) == 1, (\"one edge in per node\" + i)\n",
    "\n",
    "# no node can lead to itself    \n",
    "for i in adresses:\n",
    "    prob_2 += adress_vars[i][i] == 0, (\"no going to itself\" + i)\n",
    "\n",
    "# eliminate sub-loops \n",
    "for i in adresses[1:]:\n",
    "    for j in adresses[1:]:\n",
    "        prob_2 += adress_vars[j][i] + adress_vars[i][j] <= 1, (\"avoid 2-loops\" + i + \"_\" + j)\n",
    "    \n",
    "prob_2.solve()"
   ]
  },
  {
   "cell_type": "code",
   "execution_count": 26,
   "metadata": {},
   "outputs": [
    {
     "name": "stdout",
     "output_type": "stream",
     "text": [
      "Status: Optimal\n",
      "path_BS10_5DB_BS10_6DQ = 1.0\n",
      "path_BS10_6DQ_BS48_3RE = 1.0\n",
      "path_BS13_8BW_BS3_3NA = 1.0\n",
      "path_BS16_4DD_BS16_5TR = 1.0\n",
      "path_BS16_5TR_BS37_6RX = 1.0\n",
      "path_BS25_1TW_BS29_6AB = 1.0\n",
      "path_BS29_6AB_BS13_8BW = 1.0\n",
      "path_BS35_3RY_BS10_5DB = 1.0\n",
      "path_BS37_6RX_BS35_3RY = 1.0\n",
      "path_BS3_3NA_BS8_4HY = 1.0\n",
      "path_BS48_3RE_BS25_1TW = 1.0\n",
      "path_BS4_2NZ_BS5_8EJ = 1.0\n",
      "path_BS5_8EJ_BS16_4DD = 1.0\n",
      "path_BS8_4HY_BS4_2NZ = 1.0\n"
     ]
    }
   ],
   "source": [
    "# The status of the solution is printed to the screen\n",
    "print(\"Status:\", LpStatus[prob.status])\n",
    "\n",
    "# Each of the variables is printed with it's resolved optimum value\n",
    "for v in prob.variables():\n",
    "#     print(v.name, \"=\", v.varValue)\n",
    "    if (v.varValue > 0.0):\n",
    "        print(v.name, \"=\", v.varValue)"
   ]
  },
  {
   "cell_type": "code",
   "execution_count": 27,
   "metadata": {},
   "outputs": [
    {
     "name": "stdout",
     "output_type": "stream",
     "text": [
      "Total distance:  76.74000000000002\n",
      "correct values is:  76.74\n"
     ]
    }
   ],
   "source": [
    "print(\"Total distance: \", value(prob_2.objective))\n",
    "print(\"correct values is:  76.74\")"
   ]
  },
  {
   "cell_type": "markdown",
   "metadata": {},
   "source": [
    "## 4. What are the best routes if you have two lorries, each with a capacity of 10?"
   ]
  },
  {
   "cell_type": "markdown",
   "metadata": {},
   "source": [
    "#### In this solution we introduce a new dimenison: 'lorry_no' (lorry number) which can take either value '1' or '2'. This variable will indicate which lorry has visited which adress. \n",
    "Following are some guidlines needed for constructing constrains:\n",
    "* First adress is visited by both lorries\n",
    "* only one lorry can visit all other adresses\n",
    "* for a given location the lorry that entered a location has to be the one that left it.\n",
    "* single lorry can visit at most 10 locations\n",
    "\n"
   ]
  },
  {
   "cell_type": "code",
   "execution_count": 51,
   "metadata": {},
   "outputs": [],
   "source": [
    "lorry_no = ['1','2']\n",
    "\n",
    "# Create the 'prob' variable to contain the problem data\n",
    "prob_3 = LpProblem(\"Shortest path - 2 lorries\",LpMinimize)\n",
    "\n",
    "# A dictionary called is created to contain the referenced Variables\n",
    "adresses_vars_3 = LpVariable.dicts(\"path\",(adresses,adresses,lorry_no),0,1,LpInteger)\n",
    "\n",
    "# The objective function\n",
    "prob_3 += lpSum([distances.loc[i,j]*adresses_vars_3[i][j][k] \n",
    "               for i in adresses\n",
    "               for j in adresses\n",
    "                for k in lorry_no]), \"Total distance\""
   ]
  },
  {
   "cell_type": "code",
   "execution_count": 52,
   "metadata": {},
   "outputs": [
    {
     "data": {
      "text/plain": [
       "1"
      ]
     },
     "execution_count": 52,
     "metadata": {},
     "output_type": "execute_result"
    }
   ],
   "source": [
    "# ADD CONSTRAINTS\n",
    "\n",
    "# node (1,1) (our starting location) can have 2 edges out and 2 edges in (as there are two lorries living it)\n",
    "# however each edge in or out has to be associated with different lorry\n",
    "for k in lorry_no:\n",
    "    prob_3 += lpSum([adresses_vars_3[adresses[0]][j][k] for j in adresses]) == 1, (\"two edges out from the starting location\" + k)\n",
    "    prob_3 += lpSum([adresses_vars_3[i][adresses[0]][k] for i in adresses]) == 1, (\"two edges in to the starting location\" + k)\n",
    "\n",
    "# each node can have only one edge out and one in\n",
    "for i in adresses[1:]:\n",
    "    prob_3 += lpSum([adresses_vars_3[i][j][k] for j in adresses for k in lorry_no]) == 1, (\"one edge out per \" + i)\n",
    "    prob_3 += lpSum([adresses_vars_3[j][i][k] for j in adresses for k in lorry_no]) == 1, (\"one edge in per node\" + i)\n",
    "\n",
    "# each lorry can visit only 10 adresses at maximum + 1 path to get back home = 11\n",
    "for k in lorry_no:\n",
    "    prob_3 += lpSum([adresses_vars_3[j][i][k] for i in adresses for j in adresses]) <= 11, (\"each lorry has capacity max 10\" + k)\n",
    "\n",
    "    \n",
    "# the lorry that left an adress has to be the same one the came in\n",
    "for i in adresses[1:]:\n",
    "    for k in lorry_no:\n",
    "        prob_3 += lpSum([adresses_vars_3[i][j][k] for j in adresses]) == lpSum([adresses_vars_3[j][i][k] for j in adresses]), (\"ensure same lorry drives in and out: \" + i + \"_\" + k)\n",
    "\n",
    "# no node can lead to itself    \n",
    "for k in lorry_no:\n",
    "    for i in adresses:\n",
    "        prob_3 += adresses_vars_3[i][i][k] == 0, (\"no going to itself\" + i +\"_\" + k)\n",
    "\n",
    "#  eliminate 2-node sub-loops \n",
    "for k in lorry_no:\n",
    "    for i in adresses:\n",
    "        for j in adresses:\n",
    "            prob_3 += adresses_vars_3[j][i][k] + adresses_vars_3[i][j][k] <= 1, (\"avoid 2-loops\" + i + \"_\" + j + \"_\" + k)\n",
    "            \n",
    "\n",
    "# eliminate some manually detected 3-node sub-loops\n",
    "adresses_sub = ['BS13 8BW', 'BS25 1TW', 'BS29 6AB']\n",
    "for k in lorry_no:\n",
    "    prob_3 += lpSum([adresses_vars_3[j][i][k] for i in adresses_sub for j in adresses_sub]) <= 2, (\"avoid 3-loop - a\" + k)\n",
    "\n",
    "adresses_sub_2 = ['BS16 5TR', 'BS37 6RX', 'BS16 4DD']\n",
    "for k in lorry_no:\n",
    "    prob_3 += lpSum([adresses_vars_3[j][i][k] for i in adresses_sub_2 for j in adresses_sub_2]) <= 2, (\"avoid 3-loop - b\" + k)\n",
    "    \n",
    "adresses_sub_3 = ['BS16 5TR', 'BS35 3RY', 'BS37 6RX']\n",
    "for k in lorry_no:\n",
    "    prob_3 += lpSum([adresses_vars_3[j][i][k] for i in adresses_sub_3 for j in adresses_sub_3]) <= 2, (\"avoid 3-loop - c\" + k)\n",
    "\n",
    "adresses_sub_4 = ['BS16 5TR', 'BS5 8EJ', 'BS16 4DD']\n",
    "for k in lorry_no:\n",
    "    prob_3 += lpSum([adresses_vars_3[j][i][k] for i in adresses_sub_4 for j in adresses_sub_4]) <= 3, (\"avoid 3-loop - d\" + k)\n",
    "\n",
    "    \n",
    "prob_3.solve()"
   ]
  },
  {
   "cell_type": "code",
   "execution_count": 53,
   "metadata": {},
   "outputs": [
    {
     "name": "stdout",
     "output_type": "stream",
     "text": [
      "Total distance:  84.92\n",
      "correct values is:  84.92\n"
     ]
    }
   ],
   "source": [
    "print(\"Total distance: \", value(prob_3.objective))\n",
    "print(\"correct values is:  84.92\")"
   ]
  },
  {
   "cell_type": "code",
   "execution_count": 54,
   "metadata": {},
   "outputs": [
    {
     "name": "stdout",
     "output_type": "stream",
     "text": [
      "Status: Optimal\n",
      "path_BS10_5DB_BS10_6DQ_2 = 1.0\n",
      "path_BS10_6DQ_BS48_3RE_2 = 1.0\n",
      "path_BS13_8BW_BS3_3NA_2 = 1.0\n",
      "path_BS16_4DD_BS5_8EJ_1 = 1.0\n",
      "path_BS16_5TR_BS35_3RY_2 = 1.0\n",
      "path_BS16_5TR_BS37_6RX_1 = 1.0\n",
      "path_BS25_1TW_BS29_6AB_2 = 1.0\n",
      "path_BS29_6AB_BS13_8BW_2 = 1.0\n",
      "path_BS35_3RY_BS10_5DB_2 = 1.0\n",
      "path_BS37_6RX_BS16_4DD_1 = 1.0\n",
      "path_BS3_3NA_BS8_4HY_2 = 1.0\n",
      "path_BS48_3RE_BS25_1TW_2 = 1.0\n",
      "path_BS4_2NZ_BS16_5TR_2 = 1.0\n",
      "path_BS5_8EJ_BS16_5TR_1 = 1.0\n",
      "path_BS8_4HY_BS4_2NZ_2 = 1.0\n"
     ]
    }
   ],
   "source": [
    "# The status of the solution is printed to the screen\n",
    "print(\"Status:\", LpStatus[prob_3.status])\n",
    "\n",
    "# Each of the variables is printed with it's resolved optimum value\n",
    "for v in prob_3.variables():\n",
    "    if (v.varValue > 0.0):\n",
    "        print(v.name, \"=\", v.varValue)"
   ]
  },
  {
   "cell_type": "markdown",
   "metadata": {},
   "source": [
    "there are no inner loops in the solution above each node is visited once, but the first one. (checked manually)"
   ]
  },
  {
   "cell_type": "code",
   "execution_count": null,
   "metadata": {},
   "outputs": [],
   "source": []
  }
 ],
 "metadata": {
  "kernelspec": {
   "display_name": "Python 3",
   "language": "python",
   "name": "python3"
  },
  "language_info": {
   "codemirror_mode": {
    "name": "ipython",
    "version": 3
   },
   "file_extension": ".py",
   "mimetype": "text/x-python",
   "name": "python",
   "nbconvert_exporter": "python",
   "pygments_lexer": "ipython3",
   "version": "3.6.7"
  }
 },
 "nbformat": 4,
 "nbformat_minor": 2
}
