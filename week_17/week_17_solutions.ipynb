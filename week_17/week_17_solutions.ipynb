{
 "cells": [
  {
   "cell_type": "markdown",
   "metadata": {},
   "source": [
    "### You have been given a set of 10,000 Real random numbers between 0 and 1. Assuming that the distribution of the random numbers is uniform"
   ]
  },
  {
   "cell_type": "code",
   "execution_count": 16,
   "metadata": {},
   "outputs": [],
   "source": [
    "import numpy as np\n",
    "import pandas as pd\n",
    "import matplotlib.pyplot as plt\n",
    "\n",
    "import math\n",
    "import scipy.stats as stats\n",
    "import statistics as stat\n",
    "import pylab"
   ]
  },
  {
   "cell_type": "markdown",
   "metadata": {},
   "source": [
    "## 1. Calculate π."
   ]
  },
  {
   "cell_type": "markdown",
   "metadata": {},
   "source": [
    "let's assume you have a 1x1 square. This square contains a quoter of a sircle with an orgin at (0,0) coordinates and radius 1.\n",
    "in order to calculate PI we will split 10,000 random number into two groups 5,000 for x and 5,000 for y coordinates. We will then draw those 5,000 points on the square. Then we will calculate sqrt(x^2 + y^2) for each point (distance from the orgin). Now, if the distance is smaller than 1.0 then we know that the point lies also on the circle. We will see what proportion of points lie on a quoter-circle and this will be used to calculate pi based on area of circle and square.  "
   ]
  },
  {
   "cell_type": "code",
   "execution_count": 27,
   "metadata": {},
   "outputs": [],
   "source": [
    "total = 50\n",
    "x, y = np.random.rand(2, total)"
   ]
  },
  {
   "cell_type": "code",
   "execution_count": 28,
   "metadata": {},
   "outputs": [
    {
     "name": "stdout",
     "output_type": "stream",
     "text": [
      "Value of pi is: 3.12\n"
     ]
    }
   ],
   "source": [
    "in_circle = 0\n",
    "for i, j in zip(x, y):\n",
    "    if 1.0 > math.sqrt(i**2 + j**2):\n",
    "        in_circle +=1\n",
    "\n",
    "pi = float(in_circle)*4 / float(total)\n",
    "print(\"Value of pi is: \" + str(pi))"
   ]
  },
  {
   "cell_type": "markdown",
   "metadata": {},
   "source": [
    "## 3. How accurate is your calculation?"
   ]
  },
  {
   "cell_type": "markdown",
   "metadata": {},
   "source": [
    "The more iterations we make the closer to pi we will get.\n",
    "-> increase num_iter"
   ]
  },
  {
   "cell_type": "code",
   "execution_count": 44,
   "metadata": {},
   "outputs": [],
   "source": [
    "num_iter = 100\n",
    "total = 50\n",
    "\n",
    "pi = np.zeros(num_iter)\n",
    "for z in range(num_iter):\n",
    "    x, y = np.random.rand(2, 50)\n",
    "    \n",
    "    in_circle = 0\n",
    "    for i, j in zip(x, y):\n",
    "        if 1.0 > math.sqrt(i**2 + j**2):\n",
    "            in_circle +=1\n",
    "\n",
    "    pi[z] = float(in_circle)*4 / float(total)"
   ]
  },
  {
   "cell_type": "code",
   "execution_count": 45,
   "metadata": {},
   "outputs": [
    {
     "data": {
      "text/plain": [
       "[<matplotlib.lines.Line2D at 0x2bea025a438>]"
      ]
     },
     "execution_count": 45,
     "metadata": {},
     "output_type": "execute_result"
    },
    {
     "data": {
      "image/png": "[encoded data removed]",
      "text/plain": [
       "<Figure size 432x288 with 1 Axes>"
      ]
     },
     "metadata": {
      "needs_background": "light"
     },
     "output_type": "display_data"
    }
   ],
   "source": [
    "plt.hist(pi, density=True, bins=20)\n",
    "plt.ylabel('Occurence');\n",
    "\n",
    "\n",
    "mu = stat.mean(pi)\n",
    "variance = stat.pvariance(pi)\n",
    "sigma = math.sqrt(variance)\n",
    "y = np.linspace(mu - 3*sigma, mu + 3*sigma, 100)\n",
    "plt.plot(y, stats.norm.pdf(y, mu, sigma),color='r')"
   ]
  },
  {
   "cell_type": "code",
   "execution_count": 46,
   "metadata": {},
   "outputs": [
    {
     "name": "stdout",
     "output_type": "stream",
     "text": [
      "Pi is: 3.1368\n"
     ]
    }
   ],
   "source": [
    "print(\"Pi is: \" + str(mu))"
   ]
  },
  {
   "cell_type": "markdown",
   "metadata": {},
   "source": [
    "## 3b. what is the best cmbination of number of experiments and elements in the experiment when we have only 10,000 rand variables"
   ]
  },
  {
   "cell_type": "code",
   "execution_count": null,
   "metadata": {},
   "outputs": [],
   "source": []
  },
  {
   "cell_type": "markdown",
   "metadata": {},
   "source": [
    "## 4. How many random numbers would it take for you to get π right to four digits after the decimal point?"
   ]
  },
  {
   "cell_type": "code",
   "execution_count": null,
   "metadata": {},
   "outputs": [],
   "source": []
  }
 ],
 "metadata": {
  "kernelspec": {
   "display_name": "Python 3",
   "language": "python",
   "name": "python3"
  },
  "language_info": {
   "codemirror_mode": {
    "name": "ipython",
    "version": 3
   },
   "file_extension": ".py",
   "mimetype": "text/x-python",
   "name": "python",
   "nbconvert_exporter": "python",
   "pygments_lexer": "ipython3",
   "version": "3.6.7"
  }
 },
 "nbformat": 4,
 "nbformat_minor": 2
}
